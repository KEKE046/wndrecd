{
 "cells": [
  {
   "cell_type": "code",
   "execution_count": null,
   "id": "0a93c26f-4266-4104-9475-a7ffd87ab89d",
   "metadata": {},
   "outputs": [],
   "source": [
    "import re\n",
    "import math\n",
    "import pandas as pd\n",
    "import matplotlib.pyplot as plt\n",
    "import datetime\n",
    "import sys"
   ]
  },
  {
   "cell_type": "code",
   "execution_count": null,
   "id": "38998e0b-22ba-4660-84c5-87f8b7dd43e8",
   "metadata": {},
   "outputs": [],
   "source": [
    "def read_data(ltime=None, rtime=None, file='~/.wndrecd.txt'):\n",
    "    df = pd.read_csv(file, index_col='time', delimiter=',',\n",
    "                     names=['time', 'action', 'win'], \n",
    "                     dtype={'action': 'category', 'win': str},\n",
    "                     parse_dates=['time'])\n",
    "    df = df.loc[ltime:rtime].copy()\n",
    "    df = df.loc[df.action != ' scrunlock']\n",
    "    df_tmp = df.iloc[:-1].copy()\n",
    "    df_tmp['duration'] = pd.Series(df.index).diff().iloc[1:].to_numpy()\n",
    "    df = df_tmp; del df_tmp\n",
    "    return df"
   ]
  },
  {
   "cell_type": "code",
   "execution_count": null,
   "id": "4c6db0e9-2f72-414d-beae-9523b7fbc4da",
   "metadata": {},
   "outputs": [],
   "source": [
    "args = ('yesterday', 'today', '2022-02-05', '2022-02-06', 'nolock')\n",
    "ltime = rtime = None\n",
    "today = datetime.date.today()\n",
    "oneday = datetime.timedelta(days=1)\n",
    "if 'today' in args:\n",
    "    ltime = today\n",
    "if 'yesterday' in args:\n",
    "    if 'today' not in args:\n",
    "        rtime = today\n",
    "    ltime = today - oneday\n",
    "date_pat = re.compile('\\d\\d\\d\\d-\\d\\d-\\d\\d')\n",
    "day = tuple(filter(date_pat.fullmatch, args))\n",
    "if day:\n",
    "    ltime = datetime.date.fromisoformat(day[0])\n",
    "    if len(day) == 1:\n",
    "        rtime = ltime + oneday\n",
    "    else:\n",
    "        rtime = datetime.date.fromisoformat(day[-1]) + oneday"
   ]
  },
  {
   "cell_type": "code",
   "execution_count": null,
   "id": "5cdd268e-8348-4613-a0ab-70e344face4f",
   "metadata": {},
   "outputs": [],
   "source": [
    "df = read_data(ltime, rtime)"
   ]
  },
  {
   "cell_type": "code",
   "execution_count": null,
   "id": "94f62879-bf90-4a9a-a6cf-27e84a9dbbb1",
   "metadata": {},
   "outputs": [],
   "source": [
    "if 'nolock' in args:\n",
    "    df = df.loc[df.action != ' scrlock']"
   ]
  },
  {
   "cell_type": "code",
   "execution_count": null,
   "id": "5787c400-3d3f-42e8-a32d-9ac9c6aa4720",
   "metadata": {},
   "outputs": [],
   "source": [
    "def aggrate_win(data):\n",
    "    split_pat = re.compile('\\s+[—-]\\s+')\n",
    "    label = df.win.apply(lambda n: tuple(split_pat.split(n.strip(' ')))[::-1])\n",
    "    duration = df.groupby(label).duration.sum()\n",
    "    agg = pd.DataFrame({'pct': duration / duration.sum(), 'dur':duration})\n",
    "    return agg"
   ]
  },
  {
   "cell_type": "code",
   "execution_count": null,
   "id": "a662e18c-8780-4d14-912b-633760e5931b",
   "metadata": {},
   "outputs": [],
   "source": [
    "agg = aggrate_win(df)"
   ]
  },
  {
   "cell_type": "code",
   "execution_count": null,
   "id": "7a8096cd-6796-4e11-bc65-34b575dcb970",
   "metadata": {},
   "outputs": [],
   "source": [
    "max_depth = 3\n",
    "min_percent = 0.5\n",
    "\n",
    "tree = {}\n",
    "data = {}\n",
    "\n",
    "for k, v in agg.iterrows():\n",
    "    k = k[:max_depth]\n",
    "    for i in range(len(k)):\n",
    "        if k[:i] not in tree:\n",
    "            tree[k[:i]] = []\n",
    "        if k[i] not in tree[k[:i]]:\n",
    "            tree[k[:i]].append(k[i])\n",
    "    if k in data:\n",
    "        data[k] += v.to_numpy()\n",
    "    else:\n",
    "        data[k] = v.to_numpy()\n",
    "\n",
    "def sort_child(p=tuple()):\n",
    "    if p not in tree:\n",
    "        return\n",
    "    for c in tree[p]:\n",
    "        child = p + (c,)\n",
    "        sort_child(child)\n",
    "        if p not in data:\n",
    "            data[p] = data[child]\n",
    "        else:\n",
    "            data[p] = data[p] + data[child]\n",
    "    tree[p] = sorted(tree[p], key=lambda c: data[p + (c,)][0], reverse=False)\n",
    "sort_child()\n",
    "\n",
    "\n",
    "def strfdelta(tdelta):\n",
    "    d = {\"days\": tdelta.days}\n",
    "    d[\"hours\"], rem = divmod(tdelta.seconds, 3600)\n",
    "    d[\"minutes\"], d[\"seconds\"] = divmod(rem, 60)\n",
    "    return '{hours}:{minutes}:{seconds}'.format(**d)\n",
    "def strf(name, dur, d, p, n=15):\n",
    "    sp = [name[i: i + n] for i in range(0, len(name), n)]\n",
    "    dur = strfdelta(dur)\n",
    "    L = int(d * p * 40)\n",
    "    if L <= 1: return sp[0][:n-5] + ': ' + dur\n",
    "    else: return '\\n'.join(sp[:max(L - 1, 1)] + [dur])\n",
    "\n",
    "def draw(p, acc, dep):\n",
    "    pct, dur = data[p]\n",
    "    if pct < min_percent / 100:\n",
    "        return\n",
    "    S = 2 * math.pi\n",
    "    mid = (acc + pct / 2)\n",
    "    plt.barh([dep], [S * pct], [1], left=S * acc)\n",
    "    rot = mid * 360\n",
    "    if rot > 90 and rot < 270:\n",
    "        rot = rot - 180\n",
    "    annot = strf(p[-1], dur, dep, pct)\n",
    "    plt.annotate(annot, (S * mid, dep), ha='center', va='center', rotation=rot)\n",
    "\n",
    "def visualize(p=tuple(), acc=0, dep=0):\n",
    "    if dep > 0:\n",
    "        draw(p, acc, dep)\n",
    "    if p not in tree: return\n",
    "    for c in tree[p]:\n",
    "        child = p + (c,)\n",
    "        visualize(child, acc, dep + 1)\n",
    "        acc += data[child][0]"
   ]
  },
  {
   "cell_type": "code",
   "execution_count": null,
   "id": "ce584aa0-5c98-44c0-b185-4b96f22d390f",
   "metadata": {},
   "outputs": [],
   "source": [
    "%matplotlib inline\n",
    "fig, ax = plt.subplots(subplot_kw=dict(projection=\"polar\"), figsize=(10, 10))\n",
    "visualize()\n",
    "plt.annotate('Total\\n' + strfdelta(data[()][1]), (0, 0), ha='center', va='center')\n",
    "ax.set_axis_off()\n",
    "plt.tight_layout()\n",
    "plt.show()"
   ]
  }
 ],
 "metadata": {
  "kernelspec": {
   "display_name": "Python 3 (ipykernel)",
   "language": "python",
   "name": "python3"
  },
  "language_info": {
   "codemirror_mode": {
    "name": "ipython",
    "version": 3
   },
   "file_extension": ".py",
   "mimetype": "text/x-python",
   "name": "python",
   "nbconvert_exporter": "python",
   "pygments_lexer": "ipython3",
   "version": "3.9.1"
  }
 },
 "nbformat": 4,
 "nbformat_minor": 5
}
